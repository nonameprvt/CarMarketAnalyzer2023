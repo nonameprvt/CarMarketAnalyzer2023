{
 "cells": [
  {
   "cell_type": "markdown",
   "source": [
    "### 1. Достаём данные"
   ],
   "metadata": {
    "collapsed": false,
    "pycharm": {
     "name": "#%% md\n"
    }
   }
  },
  {
   "cell_type": "markdown",
   "source": [
    "Подгрузим таблицу из базы данных."
   ],
   "metadata": {
    "collapsed": false,
    "pycharm": {
     "name": "#%% md\n"
    }
   }
  },
  {
   "cell_type": "code",
   "execution_count": 50,
   "outputs": [],
   "source": [
    "from pathlib import Path\n",
    "\n",
    "import numpy as np\n",
    "\n",
    "from price_prediction.fetch_data import get_csv_from_market_state\n",
    "\n",
    "# get_csv_from_market_state(Path('data/data.csv'))"
   ],
   "metadata": {
    "collapsed": false,
    "pycharm": {
     "name": "#%%\n"
    },
    "ExecuteTime": {
     "end_time": "2023-05-18T08:23:50.234906Z",
     "start_time": "2023-05-18T08:23:50.228965Z"
    }
   }
  },
  {
   "cell_type": "markdown",
   "source": [
    "Прочитаем таблицу и сделаем базовый препроцессинг."
   ],
   "metadata": {
    "collapsed": false,
    "pycharm": {
     "name": "#%% md\n"
    }
   }
  },
  {
   "cell_type": "code",
   "execution_count": 51,
   "outputs": [
    {
     "data": {
      "text/plain": "            id     item_id                                 name     price   \n29878   372403  2452567784        Mercedes-Benz GLC-класс, 2019   2700000  \\\n32451  1028299  3009076030                        Kia Rio, 2010    410000   \n27578   372602  2895336196  Mercedes-Benz GLC-класс Coupe, 2018   4250000   \n14970    13983  2903024612                     Maybach 62, 2004   6025500   \n20189   502142  3074142007               Hyundai Santa Fe, 2018   3250000   \n17501   421300  3022348354                         Kia K5, 2022   2500000   \n46512   908276  2907868275                   Smart Fortwo, 2011    540000   \n47440   427942  3122729546                    Toyota RAV4, 2020   3080000   \n33074   855843  3074360330   Land Rover Range Rover Sport, 2022  18982150   \n21535  1093090  2944684705        Mitsubishi Pajero Sport, 2022   5355180   \n\n        engine  mileage    body_type fuel_type transmission seller_type  ...   \n29878   2.0 AT    47000  внедорожник    бензин       полный   Автодилер  ...  \\\n32451   1.4 AT    50000        седан    бензин     передний   Автодилер  ...   \n27578   2.1 AT    77900  внедорожник    дизель       полный      Ошибка  ...   \n14970   5.5 AT    66778        седан    бензин       задний   Автодилер  ...   \n20189   2.0 AT    53500  внедорожник    дизель       полный   Автодилер  ...   \n17501   2.0 AT    22424        седан    бензин     передний      Ошибка  ...   \n46512  1.0 AMT   206000      хетчбэк    бензин       задний   Автодилер  ...   \n47440  2.0 CVT    58060  внедорожник    бензин       полный      Ошибка  ...   \n33074   3.0 AT        0  внедорожник    дизель       полный      Ошибка  ...   \n21535   2.4 AT        0  внедорожник    дизель       полный   Автодилер  ...   \n\n      gear_box steering_wheel_side documents_ok owners_counter  car_is_wanted   \n29878   Ошибка              Ошибка       Ошибка         Ошибка         Ошибка  \\\n32451   Ошибка              Ошибка       Ошибка         Ошибка         Ошибка   \n27578   Ошибка              Ошибка       Ошибка         Ошибка         Ошибка   \n14970   Ошибка              Ошибка       Ошибка         Ошибка         Ошибка   \n20189   Ошибка              Ошибка       Ошибка         Ошибка         Ошибка   \n17501   Ошибка              Ошибка       Ошибка         Ошибка         Ошибка   \n46512   Ошибка              Ошибка       Ошибка         Ошибка         Ошибка   \n47440   Ошибка              Ошибка       Ошибка         Ошибка         Ошибка   \n33074   Ошибка              Ошибка       Ошибка         Ошибка         Ошибка   \n21535   Ошибка              Ошибка       Ошибка         Ошибка         Ошибка   \n\n       car_is_busted     brand_name         model_name  year is_bitten  \n29878         Ошибка  Mercedes-Benz          GLC-класс  2019     False  \n32451         Ошибка            Kia                Rio  2010     False  \n27578         Ошибка  Mercedes-Benz    GLC-класс Coupe  2018     False  \n14970         Ошибка        Maybach                 62  2004     False  \n20189         Ошибка        Hyundai           Santa Fe  2018     False  \n17501         Ошибка            Kia                 K5  2022     False  \n46512         Ошибка          Smart             Fortwo  2011     False  \n47440         Ошибка         Toyota               RAV4  2020     False  \n33074         Ошибка     Land Rover  Range Rover Sport  2022     False  \n21535         Ошибка     Mitsubishi       Pajero Sport  2022     False  \n\n[10 rows x 27 columns]",
      "text/html": "<div>\n<style scoped>\n    .dataframe tbody tr th:only-of-type {\n        vertical-align: middle;\n    }\n\n    .dataframe tbody tr th {\n        vertical-align: top;\n    }\n\n    .dataframe thead th {\n        text-align: right;\n    }\n</style>\n<table border=\"1\" class=\"dataframe\">\n  <thead>\n    <tr style=\"text-align: right;\">\n      <th></th>\n      <th>id</th>\n      <th>item_id</th>\n      <th>name</th>\n      <th>price</th>\n      <th>engine</th>\n      <th>mileage</th>\n      <th>body_type</th>\n      <th>fuel_type</th>\n      <th>transmission</th>\n      <th>seller_type</th>\n      <th>...</th>\n      <th>gear_box</th>\n      <th>steering_wheel_side</th>\n      <th>documents_ok</th>\n      <th>owners_counter</th>\n      <th>car_is_wanted</th>\n      <th>car_is_busted</th>\n      <th>brand_name</th>\n      <th>model_name</th>\n      <th>year</th>\n      <th>is_bitten</th>\n    </tr>\n  </thead>\n  <tbody>\n    <tr>\n      <th>29878</th>\n      <td>372403</td>\n      <td>2452567784</td>\n      <td>Mercedes-Benz GLC-класс, 2019</td>\n      <td>2700000</td>\n      <td>2.0 AT</td>\n      <td>47000</td>\n      <td>внедорожник</td>\n      <td>бензин</td>\n      <td>полный</td>\n      <td>Автодилер</td>\n      <td>...</td>\n      <td>Ошибка</td>\n      <td>Ошибка</td>\n      <td>Ошибка</td>\n      <td>Ошибка</td>\n      <td>Ошибка</td>\n      <td>Ошибка</td>\n      <td>Mercedes-Benz</td>\n      <td>GLC-класс</td>\n      <td>2019</td>\n      <td>False</td>\n    </tr>\n    <tr>\n      <th>32451</th>\n      <td>1028299</td>\n      <td>3009076030</td>\n      <td>Kia Rio, 2010</td>\n      <td>410000</td>\n      <td>1.4 AT</td>\n      <td>50000</td>\n      <td>седан</td>\n      <td>бензин</td>\n      <td>передний</td>\n      <td>Автодилер</td>\n      <td>...</td>\n      <td>Ошибка</td>\n      <td>Ошибка</td>\n      <td>Ошибка</td>\n      <td>Ошибка</td>\n      <td>Ошибка</td>\n      <td>Ошибка</td>\n      <td>Kia</td>\n      <td>Rio</td>\n      <td>2010</td>\n      <td>False</td>\n    </tr>\n    <tr>\n      <th>27578</th>\n      <td>372602</td>\n      <td>2895336196</td>\n      <td>Mercedes-Benz GLC-класс Coupe, 2018</td>\n      <td>4250000</td>\n      <td>2.1 AT</td>\n      <td>77900</td>\n      <td>внедорожник</td>\n      <td>дизель</td>\n      <td>полный</td>\n      <td>Ошибка</td>\n      <td>...</td>\n      <td>Ошибка</td>\n      <td>Ошибка</td>\n      <td>Ошибка</td>\n      <td>Ошибка</td>\n      <td>Ошибка</td>\n      <td>Ошибка</td>\n      <td>Mercedes-Benz</td>\n      <td>GLC-класс Coupe</td>\n      <td>2018</td>\n      <td>False</td>\n    </tr>\n    <tr>\n      <th>14970</th>\n      <td>13983</td>\n      <td>2903024612</td>\n      <td>Maybach 62, 2004</td>\n      <td>6025500</td>\n      <td>5.5 AT</td>\n      <td>66778</td>\n      <td>седан</td>\n      <td>бензин</td>\n      <td>задний</td>\n      <td>Автодилер</td>\n      <td>...</td>\n      <td>Ошибка</td>\n      <td>Ошибка</td>\n      <td>Ошибка</td>\n      <td>Ошибка</td>\n      <td>Ошибка</td>\n      <td>Ошибка</td>\n      <td>Maybach</td>\n      <td>62</td>\n      <td>2004</td>\n      <td>False</td>\n    </tr>\n    <tr>\n      <th>20189</th>\n      <td>502142</td>\n      <td>3074142007</td>\n      <td>Hyundai Santa Fe, 2018</td>\n      <td>3250000</td>\n      <td>2.0 AT</td>\n      <td>53500</td>\n      <td>внедорожник</td>\n      <td>дизель</td>\n      <td>полный</td>\n      <td>Автодилер</td>\n      <td>...</td>\n      <td>Ошибка</td>\n      <td>Ошибка</td>\n      <td>Ошибка</td>\n      <td>Ошибка</td>\n      <td>Ошибка</td>\n      <td>Ошибка</td>\n      <td>Hyundai</td>\n      <td>Santa Fe</td>\n      <td>2018</td>\n      <td>False</td>\n    </tr>\n    <tr>\n      <th>17501</th>\n      <td>421300</td>\n      <td>3022348354</td>\n      <td>Kia K5, 2022</td>\n      <td>2500000</td>\n      <td>2.0 AT</td>\n      <td>22424</td>\n      <td>седан</td>\n      <td>бензин</td>\n      <td>передний</td>\n      <td>Ошибка</td>\n      <td>...</td>\n      <td>Ошибка</td>\n      <td>Ошибка</td>\n      <td>Ошибка</td>\n      <td>Ошибка</td>\n      <td>Ошибка</td>\n      <td>Ошибка</td>\n      <td>Kia</td>\n      <td>K5</td>\n      <td>2022</td>\n      <td>False</td>\n    </tr>\n    <tr>\n      <th>46512</th>\n      <td>908276</td>\n      <td>2907868275</td>\n      <td>Smart Fortwo, 2011</td>\n      <td>540000</td>\n      <td>1.0 AMT</td>\n      <td>206000</td>\n      <td>хетчбэк</td>\n      <td>бензин</td>\n      <td>задний</td>\n      <td>Автодилер</td>\n      <td>...</td>\n      <td>Ошибка</td>\n      <td>Ошибка</td>\n      <td>Ошибка</td>\n      <td>Ошибка</td>\n      <td>Ошибка</td>\n      <td>Ошибка</td>\n      <td>Smart</td>\n      <td>Fortwo</td>\n      <td>2011</td>\n      <td>False</td>\n    </tr>\n    <tr>\n      <th>47440</th>\n      <td>427942</td>\n      <td>3122729546</td>\n      <td>Toyota RAV4, 2020</td>\n      <td>3080000</td>\n      <td>2.0 CVT</td>\n      <td>58060</td>\n      <td>внедорожник</td>\n      <td>бензин</td>\n      <td>полный</td>\n      <td>Ошибка</td>\n      <td>...</td>\n      <td>Ошибка</td>\n      <td>Ошибка</td>\n      <td>Ошибка</td>\n      <td>Ошибка</td>\n      <td>Ошибка</td>\n      <td>Ошибка</td>\n      <td>Toyota</td>\n      <td>RAV4</td>\n      <td>2020</td>\n      <td>False</td>\n    </tr>\n    <tr>\n      <th>33074</th>\n      <td>855843</td>\n      <td>3074360330</td>\n      <td>Land Rover Range Rover Sport, 2022</td>\n      <td>18982150</td>\n      <td>3.0 AT</td>\n      <td>0</td>\n      <td>внедорожник</td>\n      <td>дизель</td>\n      <td>полный</td>\n      <td>Ошибка</td>\n      <td>...</td>\n      <td>Ошибка</td>\n      <td>Ошибка</td>\n      <td>Ошибка</td>\n      <td>Ошибка</td>\n      <td>Ошибка</td>\n      <td>Ошибка</td>\n      <td>Land Rover</td>\n      <td>Range Rover Sport</td>\n      <td>2022</td>\n      <td>False</td>\n    </tr>\n    <tr>\n      <th>21535</th>\n      <td>1093090</td>\n      <td>2944684705</td>\n      <td>Mitsubishi Pajero Sport, 2022</td>\n      <td>5355180</td>\n      <td>2.4 AT</td>\n      <td>0</td>\n      <td>внедорожник</td>\n      <td>дизель</td>\n      <td>полный</td>\n      <td>Автодилер</td>\n      <td>...</td>\n      <td>Ошибка</td>\n      <td>Ошибка</td>\n      <td>Ошибка</td>\n      <td>Ошибка</td>\n      <td>Ошибка</td>\n      <td>Ошибка</td>\n      <td>Mitsubishi</td>\n      <td>Pajero Sport</td>\n      <td>2022</td>\n      <td>False</td>\n    </tr>\n  </tbody>\n</table>\n<p>10 rows × 27 columns</p>\n</div>"
     },
     "execution_count": 51,
     "metadata": {},
     "output_type": "execute_result"
    }
   ],
   "source": [
    "import pandas as pd\n",
    "\n",
    "data = pd.read_csv('data/data.csv')\n",
    "data.sample(10)"
   ],
   "metadata": {
    "collapsed": false,
    "pycharm": {
     "name": "#%%\n"
    },
    "ExecuteTime": {
     "end_time": "2023-05-18T08:23:52.859071Z",
     "start_time": "2023-05-18T08:23:51.298722Z"
    }
   }
  },
  {
   "cell_type": "code",
   "execution_count": 52,
   "outputs": [],
   "source": [
    "bad_cols = [col for col in data.columns if (data[col] == 'Ошибка').sum() > len(data) / 2]\n",
    "data.drop(columns=bad_cols, inplace=True)"
   ],
   "metadata": {
    "collapsed": false,
    "pycharm": {
     "name": "#%%\n"
    },
    "ExecuteTime": {
     "end_time": "2023-05-18T08:23:54.379907Z",
     "start_time": "2023-05-18T08:23:54.332167Z"
    }
   }
  },
  {
   "cell_type": "code",
   "execution_count": 53,
   "outputs": [
    {
     "data": {
      "text/plain": "id                     0\nitem_id                0\nname                   0\nprice                  0\nengine                 0\nmileage                0\nbody_type              0\nfuel_type              0\ntransmission           0\nseller_type            0\ncity                   0\ndescription            0\nlink                   0\nmarket_type            0\npredicted_price    50878\nhorse_power            0\nbrand_name            27\nmodel_name            18\nyear                   0\nis_bitten              0\ndtype: int64"
     },
     "execution_count": 53,
     "metadata": {},
     "output_type": "execute_result"
    }
   ],
   "source": [
    "data.isna().sum()"
   ],
   "metadata": {
    "collapsed": false,
    "ExecuteTime": {
     "end_time": "2023-05-18T08:23:54.551617Z",
     "start_time": "2023-05-18T08:23:54.547744Z"
    }
   }
  },
  {
   "cell_type": "code",
   "execution_count": 54,
   "outputs": [],
   "source": [
    "data.model_name = data.model_name.fillna('Ошибка')\n",
    "data.brand_name = data.brand_name.fillna('Ошибка')"
   ],
   "metadata": {
    "collapsed": false,
    "pycharm": {
     "name": "#%%\n"
    },
    "ExecuteTime": {
     "end_time": "2023-05-18T08:23:54.857143Z",
     "start_time": "2023-05-18T08:23:54.848353Z"
    }
   }
  },
  {
   "cell_type": "code",
   "execution_count": 55,
   "outputs": [],
   "source": [
    "data.is_bitten = data.is_bitten.astype(int)"
   ],
   "metadata": {
    "collapsed": false,
    "pycharm": {
     "name": "#%%\n"
    },
    "ExecuteTime": {
     "end_time": "2023-05-18T08:23:55.263070Z",
     "start_time": "2023-05-18T08:23:55.257340Z"
    }
   }
  },
  {
   "cell_type": "markdown",
   "source": [
    "### 2. Делаем самые простые модели\n",
    "\n",
    "Попробуем базовые реализации следующих моделей:\n",
    "- Ridge-регрессия\n",
    "- Decision Tree\n",
    "\n",
    "Дополнительно попробуем учитывать текстовые описания. В качестве базового способа будем использовать tf-idf."
   ],
   "metadata": {
    "collapsed": false,
    "pycharm": {
     "name": "#%% md\n"
    }
   }
  },
  {
   "cell_type": "code",
   "execution_count": 56,
   "outputs": [],
   "source": [
    "def preprocess(text):\n",
    "    text = ''.join(list(filter(lambda x: str.isalnum(x) or x == ' ', text.lower())))\n",
    "    words = filter(len, text.split(' '))\n",
    "    return ' '.join(words)\n",
    "\n",
    "\n",
    "data['text'] = data.description.apply(preprocess)"
   ],
   "metadata": {
    "collapsed": false,
    "pycharm": {
     "name": "#%%\n"
    },
    "ExecuteTime": {
     "end_time": "2023-05-18T08:24:03.503376Z",
     "start_time": "2023-05-18T08:23:58.084308Z"
    }
   }
  },
  {
   "cell_type": "code",
   "execution_count": 57,
   "outputs": [],
   "source": [
    "from sklearn.model_selection import train_test_split\n",
    "\n",
    "data_train, data_test, y_train, y_test = train_test_split(data, data.price, test_size=0.2, random_state=42)"
   ],
   "metadata": {
    "collapsed": false,
    "pycharm": {
     "name": "#%%\n"
    },
    "ExecuteTime": {
     "end_time": "2023-05-18T08:24:03.539499Z",
     "start_time": "2023-05-18T08:24:03.506348Z"
    }
   }
  },
  {
   "cell_type": "code",
   "execution_count": 27,
   "outputs": [],
   "source": [
    "import typing as tp\n",
    "\n",
    "from sklearn.metrics import mean_squared_error, mean_absolute_percentage_error\n",
    "from sklearn.pipeline import Pipeline\n",
    "\n",
    "\n",
    "def fit_and_evaluate(model, transformer) -> tp.Dict[str, float]:\n",
    "    pipeline = Pipeline([\n",
    "        ('transformer', transformer),\n",
    "        ('model', model)\n",
    "    ])\n",
    "    pipeline.fit(data_train, y_train)\n",
    "    y_pred_train = pipeline.predict(data_train)\n",
    "    y_pred_test = pipeline.predict(data_test)\n",
    "    return {\n",
    "        'Train MSE': mean_squared_error(y_train, y_pred_train),\n",
    "        'Test MSE': mean_squared_error(y_test, y_pred_test),\n",
    "        'Train MAPE': mean_absolute_percentage_error(y_train, y_pred_train),\n",
    "        'Test MAPE': mean_absolute_percentage_error(y_test, y_pred_test)\n",
    "    }"
   ],
   "metadata": {
    "collapsed": false,
    "pycharm": {
     "name": "#%%\n"
    },
    "ExecuteTime": {
     "end_time": "2023-05-18T06:48:28.128497Z",
     "start_time": "2023-05-18T06:48:28.119294Z"
    }
   }
  },
  {
   "cell_type": "code",
   "execution_count": 28,
   "outputs": [],
   "source": [
    "metrics = [\n",
    "    'Train MSE',\n",
    "    'Test MSE',\n",
    "    'Train MAPE',\n",
    "    'Test MAPE'\n",
    "]\n",
    "cmp_table = pd.DataFrame(columns=metrics)"
   ],
   "metadata": {
    "collapsed": false,
    "ExecuteTime": {
     "end_time": "2023-05-18T06:48:30.483841Z",
     "start_time": "2023-05-18T06:48:30.478865Z"
    }
   }
  },
  {
   "cell_type": "code",
   "execution_count": 33,
   "outputs": [],
   "source": [
    "from sklearn.compose import ColumnTransformer\n",
    "from sklearn.preprocessing import OneHotEncoder, StandardScaler\n",
    "from sklearn.feature_extraction.text import TfidfVectorizer\n",
    "\n",
    "categorical = ['engine', 'body_type', 'fuel_type', 'transmission', 'seller_type', 'brand_name', 'model_name']\n",
    "numeric = ['mileage', 'horse_power', 'year']\n",
    "passthrough = ['is_bitten']\n",
    "\n",
    "column_transformer = ColumnTransformer([\n",
    "    ('scaling', StandardScaler(), numeric),\n",
    "    ('ohe', OneHotEncoder(handle_unknown='ignore'), categorical),\n",
    "    ('passthrough', 'passthrough', passthrough)\n",
    "])\n",
    "\n",
    "column_transformer_with_tf_idf = ColumnTransformer([\n",
    "    ('scaling', StandardScaler(), numeric),\n",
    "    ('ohe', OneHotEncoder(handle_unknown='ignore'), categorical),\n",
    "    ('tf-idf', TfidfVectorizer(), 'text'),\n",
    "    ('passthrough', 'passthrough', passthrough)\n",
    "])"
   ],
   "metadata": {
    "collapsed": false,
    "ExecuteTime": {
     "end_time": "2023-05-18T06:49:55.666212Z",
     "start_time": "2023-05-18T06:49:55.663086Z"
    }
   }
  },
  {
   "cell_type": "code",
   "execution_count": 34,
   "outputs": [],
   "source": [
    "from sklearn.linear_model import Ridge\n",
    "from sklearn.tree import DecisionTreeRegressor\n",
    "\n",
    "cmp_table.loc['Ridge'] = fit_and_evaluate(Ridge(), column_transformer)\n",
    "cmp_table.loc['Ridge + tf-idf'] = fit_and_evaluate(Ridge(), column_transformer_with_tf_idf)\n",
    "cmp_table.loc['DecisionTree'] = fit_and_evaluate(DecisionTreeRegressor(), column_transformer)\n",
    "cmp_table.loc['DecisionTree + tf-idf'] = fit_and_evaluate(DecisionTreeRegressor(), column_transformer_with_tf_idf)"
   ],
   "metadata": {
    "collapsed": false,
    "pycharm": {
     "name": "#%%\n"
    },
    "ExecuteTime": {
     "end_time": "2023-05-18T06:51:16.659933Z",
     "start_time": "2023-05-18T06:49:57.136971Z"
    }
   }
  },
  {
   "cell_type": "code",
   "execution_count": 35,
   "outputs": [
    {
     "data": {
      "text/plain": "                          Train MSE      Test MSE  Train MAPE  Test MAPE\nRidge                  3.586051e+12  3.665341e+12    0.773325   0.855170\nRidge + tf-idf         1.677033e+12  2.807453e+12    0.513088   0.758983\nDecisionTree           1.044837e+11  1.627416e+12    0.007253   0.215743\nDecisionTree + tf-idf  4.731898e+09  2.208772e+12    0.001915   0.258188",
      "text/html": "<div>\n<style scoped>\n    .dataframe tbody tr th:only-of-type {\n        vertical-align: middle;\n    }\n\n    .dataframe tbody tr th {\n        vertical-align: top;\n    }\n\n    .dataframe thead th {\n        text-align: right;\n    }\n</style>\n<table border=\"1\" class=\"dataframe\">\n  <thead>\n    <tr style=\"text-align: right;\">\n      <th></th>\n      <th>Train MSE</th>\n      <th>Test MSE</th>\n      <th>Train MAPE</th>\n      <th>Test MAPE</th>\n    </tr>\n  </thead>\n  <tbody>\n    <tr>\n      <th>Ridge</th>\n      <td>3.586051e+12</td>\n      <td>3.665341e+12</td>\n      <td>0.773325</td>\n      <td>0.855170</td>\n    </tr>\n    <tr>\n      <th>Ridge + tf-idf</th>\n      <td>1.677033e+12</td>\n      <td>2.807453e+12</td>\n      <td>0.513088</td>\n      <td>0.758983</td>\n    </tr>\n    <tr>\n      <th>DecisionTree</th>\n      <td>1.044837e+11</td>\n      <td>1.627416e+12</td>\n      <td>0.007253</td>\n      <td>0.215743</td>\n    </tr>\n    <tr>\n      <th>DecisionTree + tf-idf</th>\n      <td>4.731898e+09</td>\n      <td>2.208772e+12</td>\n      <td>0.001915</td>\n      <td>0.258188</td>\n    </tr>\n  </tbody>\n</table>\n</div>"
     },
     "execution_count": 35,
     "metadata": {},
     "output_type": "execute_result"
    }
   ],
   "source": [
    "cmp_table"
   ],
   "metadata": {
    "collapsed": false,
    "pycharm": {
     "name": "#%%\n"
    },
    "ExecuteTime": {
     "end_time": "2023-05-18T06:51:19.924322Z",
     "start_time": "2023-05-18T06:51:19.916980Z"
    }
   }
  },
  {
   "cell_type": "markdown",
   "source": [
    "Учёт текстовых описаний при использовании моделей \"из коробки\" уменьшил ошибку для Ridge-регрессии, но ухудшил для решающего дерева. При этом результат решающего дерева значительно лучше."
   ],
   "metadata": {
    "collapsed": false,
    "pycharm": {
     "name": "#%% md\n"
    }
   }
  },
  {
   "cell_type": "markdown",
   "source": [
    "### 3. Feature Engineering для Ridge-регрессии\n",
    "\n",
    "С Ridge-регрессией есть довольно очевидная проблема: она ожидает, что таргет зависит от признаков линейно, в нашем же случае это предположение не выполняется. Попробуем модифицировать признаки и добиться лучшего качества."
   ],
   "metadata": {
    "collapsed": false,
    "pycharm": {
     "name": "#%% md\n"
    }
   }
  },
  {
   "cell_type": "code",
   "execution_count": 43,
   "outputs": [],
   "source": [
    "import matplotlib.pyplot as plt\n",
    "import seaborn as sns\n",
    "\n",
    "plt.rcParams['figure.figsize'] = (9, 6)\n",
    "sns.set_style('darkgrid')"
   ],
   "metadata": {
    "collapsed": false,
    "pycharm": {
     "name": "#%%\n"
    },
    "ExecuteTime": {
     "end_time": "2023-05-16T20:24:13.978554Z",
     "start_time": "2023-05-16T20:24:13.969663Z"
    }
   }
  },
  {
   "cell_type": "markdown",
   "source": [
    "#### 3.1 Год выпуска"
   ],
   "metadata": {
    "collapsed": false,
    "pycharm": {
     "name": "#%% md\n"
    }
   }
  },
  {
   "cell_type": "code",
   "execution_count": 44,
   "outputs": [
    {
     "data": {
      "text/plain": "<Figure size 500x500 with 1 Axes>",
      "image/png": "[encoded data removed]"
     },
     "metadata": {},
     "output_type": "display_data"
    }
   ],
   "source": [
    "sns.relplot(data_train, x='year', y='price', kind='line')\n",
    "plt.title('Dependence of average price on year')\n",
    "plt.show()"
   ],
   "metadata": {
    "collapsed": false,
    "pycharm": {
     "name": "#%%\n"
    },
    "ExecuteTime": {
     "end_time": "2023-05-16T20:24:15.887438Z",
     "start_time": "2023-05-16T20:24:15.059886Z"
    }
   }
  },
  {
   "cell_type": "markdown",
   "source": [
    "C 2000-го года зависимость немного похожа на линейную, до этого выделим десятилетние периоды в качестве категориальных признаков."
   ],
   "metadata": {
    "collapsed": false,
    "pycharm": {
     "name": "#%% md\n"
    }
   }
  },
  {
   "cell_type": "code",
   "execution_count": 45,
   "outputs": [],
   "source": [
    "data['year_lin'] = data.year * (data.year >= 2000)"
   ],
   "metadata": {
    "collapsed": false,
    "pycharm": {
     "name": "#%%\n"
    },
    "ExecuteTime": {
     "end_time": "2023-05-16T20:24:18.741037Z",
     "start_time": "2023-05-16T20:24:18.731349Z"
    }
   }
  },
  {
   "cell_type": "code",
   "execution_count": 46,
   "outputs": [],
   "source": [
    "import math\n",
    "\n",
    "borders = [-math.inf] + list(range(1920, 2001, 5)) + [math.inf]\n",
    "for i in range(1, len(borders)):\n",
    "    data[f'year_range_{i}'] = ((borders[i - 1] <= data.year) & (data.year < borders[i])).astype(int)"
   ],
   "metadata": {
    "collapsed": false,
    "pycharm": {
     "name": "#%%\n"
    },
    "ExecuteTime": {
     "end_time": "2023-05-16T20:24:19.143957Z",
     "start_time": "2023-05-16T20:24:19.131770Z"
    }
   }
  },
  {
   "cell_type": "markdown",
   "source": [
    "#### 3.2 Пробег"
   ],
   "metadata": {
    "collapsed": false,
    "pycharm": {
     "name": "#%% md\n"
    }
   }
  },
  {
   "cell_type": "code",
   "execution_count": 47,
   "outputs": [
    {
     "data": {
      "text/plain": "<Figure size 500x500 with 1 Axes>",
      "image/png": "[encoded data removed]"
     },
     "metadata": {},
     "output_type": "display_data"
    }
   ],
   "source": [
    "sns.relplot(data_train, x='mileage', y='price', kind='line')\n",
    "plt.title('Dependence of average price on mileage')\n",
    "plt.show()"
   ],
   "metadata": {
    "collapsed": false,
    "pycharm": {
     "name": "#%%\n"
    },
    "ExecuteTime": {
     "end_time": "2023-05-16T20:24:33.179313Z",
     "start_time": "2023-05-16T20:24:21.166113Z"
    }
   }
  },
  {
   "cell_type": "markdown",
   "source": [
    "Можем просто выделить две категории: пробег до 50000 или больше."
   ],
   "metadata": {
    "collapsed": false,
    "pycharm": {
     "name": "#%% md\n"
    }
   }
  },
  {
   "cell_type": "code",
   "execution_count": 48,
   "outputs": [],
   "source": [
    "data['small_mileage'] = (data.mileage < 50000).astype(int)\n",
    "data['large_mileage'] = 1 - data.small_mileage"
   ],
   "metadata": {
    "collapsed": false,
    "pycharm": {
     "name": "#%%\n"
    },
    "ExecuteTime": {
     "end_time": "2023-05-16T20:25:29.334721Z",
     "start_time": "2023-05-16T20:25:29.328149Z"
    }
   }
  },
  {
   "cell_type": "markdown",
   "source": [
    "#### 3.3 Мощность"
   ],
   "metadata": {
    "collapsed": false,
    "pycharm": {
     "name": "#%% md\n"
    }
   }
  },
  {
   "cell_type": "code",
   "execution_count": 49,
   "outputs": [
    {
     "data": {
      "text/plain": "<Figure size 500x500 with 1 Axes>",
      "image/png": "[encoded data removed]"
     },
     "metadata": {},
     "output_type": "display_data"
    }
   ],
   "source": [
    "sns.relplot(data_train, x='horse_power', y='price', kind='line')\n",
    "plt.title('Dependence of average price on mileage')\n",
    "plt.show()"
   ],
   "metadata": {
    "collapsed": false,
    "pycharm": {
     "name": "#%%\n"
    },
    "ExecuteTime": {
     "end_time": "2023-05-16T20:25:35.626141Z",
     "start_time": "2023-05-16T20:25:32.787685Z"
    }
   }
  },
  {
   "cell_type": "markdown",
   "source": [
    "В целом тут можно оставить, как есть (т.к. авто с мощностью больше 800 л.с. очень мало)"
   ],
   "metadata": {
    "collapsed": false,
    "pycharm": {
     "name": "#%% md\n"
    }
   }
  },
  {
   "cell_type": "markdown",
   "source": [
    "Повторим эксперимент с новыми признаками."
   ],
   "metadata": {
    "collapsed": false,
    "pycharm": {
     "name": "#%% md\n"
    }
   }
  },
  {
   "cell_type": "code",
   "execution_count": 51,
   "outputs": [],
   "source": [
    "data_train, data_test, y_train, y_test = train_test_split(data, data.price, random_state=42, test_size=0.2)"
   ],
   "metadata": {
    "collapsed": false,
    "pycharm": {
     "name": "#%%\n"
    },
    "ExecuteTime": {
     "end_time": "2023-05-16T20:27:16.544872Z",
     "start_time": "2023-05-16T20:27:16.519585Z"
    }
   }
  },
  {
   "cell_type": "code",
   "execution_count": 52,
   "outputs": [],
   "source": [
    "new_categorical = ['engine', 'body_type', 'fuel_type', 'transmission', 'seller_type', 'brand_name', 'model_name']\n",
    "new_numeric = ['horse_power', 'year_lin']\n",
    "new_passthrough = [col for col in data.columns if ((data[col] == 0) | (data[col] == 1)).all()]\n",
    "\n",
    "new_column_transformer = ColumnTransformer([\n",
    "    ('scaling', StandardScaler(), new_numeric),\n",
    "    ('ohe', OneHotEncoder(handle_unknown='ignore'), new_categorical),\n",
    "    ('passthrough', 'passthrough', new_passthrough)\n",
    "])\n",
    "\n",
    "new_column_transformer_with_tf_idf = ColumnTransformer([\n",
    "    ('scaling', StandardScaler(), new_numeric),\n",
    "    ('ohe', OneHotEncoder(handle_unknown='ignore'), new_categorical),\n",
    "    ('tf-idf', TfidfVectorizer(), 'text'),\n",
    "    ('passthrough', 'passthrough', new_passthrough)\n",
    "])"
   ],
   "metadata": {
    "collapsed": false,
    "pycharm": {
     "name": "#%%\n"
    },
    "ExecuteTime": {
     "end_time": "2023-05-16T20:27:17.398592Z",
     "start_time": "2023-05-16T20:27:17.336109Z"
    }
   }
  },
  {
   "cell_type": "code",
   "execution_count": 53,
   "outputs": [],
   "source": [
    "cmp_table.loc['Ridge + new features'] = fit_and_evaluate(Ridge(), new_column_transformer)\n",
    "cmp_table.loc['Ridge + new features + tf-idf'] = fit_and_evaluate(Ridge(), new_column_transformer_with_tf_idf)"
   ],
   "metadata": {
    "collapsed": false,
    "pycharm": {
     "name": "#%%\n"
    },
    "ExecuteTime": {
     "end_time": "2023-05-16T20:28:48.911935Z",
     "start_time": "2023-05-16T20:28:37.355642Z"
    }
   }
  },
  {
   "cell_type": "code",
   "execution_count": 55,
   "outputs": [
    {
     "data": {
      "text/plain": "                                  Train MSE      Test MSE  Train MAPE   \nRidge                          3.586051e+12  3.665341e+12    0.773325  \\\nRidge + tf-idf                 1.677033e+12  2.807453e+12    0.513088   \nDecisionTree                   1.044837e+11  1.698906e+12    0.007253   \nDecisionTree + tf-idf          4.731898e+09  2.048746e+12    0.001915   \nRidge + new features           3.503887e+12  3.489303e+12    0.587054   \nRidge + new features + tf-idf  1.706145e+12  2.773767e+12    0.439271   \n\n                               Test MAPE  \nRidge                           0.855170  \nRidge + tf-idf                  0.758983  \nDecisionTree                    0.230721  \nDecisionTree + tf-idf           0.247839  \nRidge + new features            0.632341  \nRidge + new features + tf-idf   0.633627  ",
      "text/html": "<div>\n<style scoped>\n    .dataframe tbody tr th:only-of-type {\n        vertical-align: middle;\n    }\n\n    .dataframe tbody tr th {\n        vertical-align: top;\n    }\n\n    .dataframe thead th {\n        text-align: right;\n    }\n</style>\n<table border=\"1\" class=\"dataframe\">\n  <thead>\n    <tr style=\"text-align: right;\">\n      <th></th>\n      <th>Train MSE</th>\n      <th>Test MSE</th>\n      <th>Train MAPE</th>\n      <th>Test MAPE</th>\n    </tr>\n  </thead>\n  <tbody>\n    <tr>\n      <th>Ridge</th>\n      <td>3.586051e+12</td>\n      <td>3.665341e+12</td>\n      <td>0.773325</td>\n      <td>0.855170</td>\n    </tr>\n    <tr>\n      <th>Ridge + tf-idf</th>\n      <td>1.677033e+12</td>\n      <td>2.807453e+12</td>\n      <td>0.513088</td>\n      <td>0.758983</td>\n    </tr>\n    <tr>\n      <th>DecisionTree</th>\n      <td>1.044837e+11</td>\n      <td>1.698906e+12</td>\n      <td>0.007253</td>\n      <td>0.230721</td>\n    </tr>\n    <tr>\n      <th>DecisionTree + tf-idf</th>\n      <td>4.731898e+09</td>\n      <td>2.048746e+12</td>\n      <td>0.001915</td>\n      <td>0.247839</td>\n    </tr>\n    <tr>\n      <th>Ridge + new features</th>\n      <td>3.503887e+12</td>\n      <td>3.489303e+12</td>\n      <td>0.587054</td>\n      <td>0.632341</td>\n    </tr>\n    <tr>\n      <th>Ridge + new features + tf-idf</th>\n      <td>1.706145e+12</td>\n      <td>2.773767e+12</td>\n      <td>0.439271</td>\n      <td>0.633627</td>\n    </tr>\n  </tbody>\n</table>\n</div>"
     },
     "execution_count": 55,
     "metadata": {},
     "output_type": "execute_result"
    }
   ],
   "source": [
    "cmp_table"
   ],
   "metadata": {
    "collapsed": false,
    "ExecuteTime": {
     "end_time": "2023-05-16T20:29:28.259550Z",
     "start_time": "2023-05-16T20:29:28.250724Z"
    }
   }
  },
  {
   "cell_type": "code",
   "execution_count": 37,
   "outputs": [
    {
     "data": {
      "text/plain": "75661.5"
     },
     "execution_count": 37,
     "metadata": {},
     "output_type": "execute_result"
    }
   ],
   "source": [
    "data.mileage.quantile(0.5)"
   ],
   "metadata": {
    "collapsed": false,
    "ExecuteTime": {
     "end_time": "2023-05-18T07:12:11.502718Z",
     "start_time": "2023-05-18T07:12:11.496680Z"
    }
   }
  },
  {
   "cell_type": "markdown",
   "source": [
    "Новые признаки заметно улучшили качество. Результат всё ещё хуже, чем у дерева, но эти новые признаки нам ещё пригодятся."
   ],
   "metadata": {
    "collapsed": false,
    "pycharm": {
     "name": "#%% md\n"
    }
   }
  },
  {
   "cell_type": "markdown",
   "source": [
    "### 4. Разбираемся с текстами"
   ],
   "metadata": {
    "collapsed": false
   }
  },
  {
   "cell_type": "code",
   "execution_count": 90,
   "outputs": [
    {
     "name": "stderr",
     "output_type": "stream",
     "text": [
      "Some weights of the model checkpoint at cointegrated/rubert-tiny2 were not used when initializing BertModel: ['cls.predictions.decoder.bias', 'cls.seq_relationship.weight', 'cls.seq_relationship.bias', 'cls.predictions.decoder.weight', 'cls.predictions.transform.dense.weight', 'cls.predictions.transform.LayerNorm.weight', 'cls.predictions.transform.LayerNorm.bias', 'cls.predictions.transform.dense.bias', 'cls.predictions.bias']\n",
      "- This IS expected if you are initializing BertModel from the checkpoint of a model trained on another task or with another architecture (e.g. initializing a BertForSequenceClassification model from a BertForPreTraining model).\n",
      "- This IS NOT expected if you are initializing BertModel from the checkpoint of a model that you expect to be exactly identical (initializing a BertForSequenceClassification model from a BertForSequenceClassification model).\n"
     ]
    }
   ],
   "source": [
    "import torch\n",
    "from transformers import AutoTokenizer, AutoModel\n",
    "tokenizer = AutoTokenizer.from_pretrained(\"cointegrated/rubert-tiny2\")\n",
    "model = AutoModel.from_pretrained(\"cointegrated/rubert-tiny2\")\n",
    "# model.cuda()  # uncomment it if you have a GPU\n",
    "\n",
    "def embed_bert_cls(text, model, tokenizer):\n",
    "    t = tokenizer(text, padding=True, truncation=True, return_tensors='pt')\n",
    "    with torch.no_grad():\n",
    "        model_output = model(**{k: v.to(model.device) for k, v in t.items()})\n",
    "    embeddings = model_output.last_hidden_state[:, 0, :]\n",
    "    embeddings = torch.nn.functional.normalize(embeddings)\n",
    "    return embeddings[0].cpu().numpy()"
   ],
   "metadata": {
    "collapsed": false,
    "ExecuteTime": {
     "end_time": "2023-05-18T09:15:26.595127Z",
     "start_time": "2023-05-18T09:15:25.882515Z"
    }
   }
  },
  {
   "cell_type": "code",
   "execution_count": 61,
   "outputs": [
    {
     "data": {
      "text/plain": "  0%|          | 0/40702 [00:00<?, ?it/s]",
      "application/vnd.jupyter.widget-view+json": {
       "version_major": 2,
       "version_minor": 0,
       "model_id": "8df6a0f9a83c40faa2863b03f4d7a3b4"
      }
     },
     "metadata": {},
     "output_type": "display_data"
    }
   ],
   "source": [
    "from tqdm.notebook import tqdm\n",
    "\n",
    "text_features_train = np.vstack([embed_bert_cls(text, model, tokenizer) for text in tqdm(data_train.description)])"
   ],
   "metadata": {
    "collapsed": false,
    "ExecuteTime": {
     "end_time": "2023-05-18T08:43:19.118414Z",
     "start_time": "2023-05-18T08:27:35.152629Z"
    }
   }
  },
  {
   "cell_type": "code",
   "execution_count": 92,
   "outputs": [],
   "source": [
    "np.save('text_features_train', text_features_train)"
   ],
   "metadata": {
    "collapsed": false,
    "ExecuteTime": {
     "end_time": "2023-05-18T09:16:52.242561Z",
     "start_time": "2023-05-18T09:16:52.199822Z"
    }
   }
  },
  {
   "cell_type": "code",
   "execution_count": 93,
   "outputs": [
    {
     "data": {
      "text/plain": "  0%|          | 0/10176 [00:00<?, ?it/s]",
      "application/vnd.jupyter.widget-view+json": {
       "version_major": 2,
       "version_minor": 0,
       "model_id": "8d7224c1af9849989e72289bf7f45f8b"
      }
     },
     "metadata": {},
     "output_type": "display_data"
    }
   ],
   "source": [
    "text_features_test = np.vstack([embed_bert_cls(text, model, tokenizer) for text in tqdm(data_test.description)])"
   ],
   "metadata": {
    "collapsed": false,
    "ExecuteTime": {
     "end_time": "2023-05-18T09:22:53.214451Z",
     "start_time": "2023-05-18T09:18:16.287404Z"
    }
   }
  },
  {
   "cell_type": "code",
   "execution_count": 94,
   "outputs": [],
   "source": [
    "np.save('text_features_test', text_features_test)"
   ],
   "metadata": {
    "collapsed": false,
    "ExecuteTime": {
     "end_time": "2023-05-18T09:29:37.181038Z",
     "start_time": "2023-05-18T09:29:37.147361Z"
    }
   }
  },
  {
   "cell_type": "code",
   "execution_count": 95,
   "outputs": [],
   "source": [
    "from sklearn.ensemble import GradientBoostingRegressor, RandomForestRegressor"
   ],
   "metadata": {
    "collapsed": false,
    "ExecuteTime": {
     "end_time": "2023-05-18T09:30:11.210938Z",
     "start_time": "2023-05-18T09:30:11.011486Z"
    }
   }
  },
  {
   "cell_type": "code",
   "execution_count": 97,
   "outputs": [],
   "source": [
    "x_train = np.hstack([column_transformer.fit_transform(data_train).toarray(), text_features_train])\n",
    "x_test = np.hstack([column_transformer.transform(data_test).toarray(), text_features_test])"
   ],
   "metadata": {
    "collapsed": false,
    "ExecuteTime": {
     "end_time": "2023-05-18T09:31:53.978552Z",
     "start_time": "2023-05-18T09:31:52.896975Z"
    }
   }
  },
  {
   "cell_type": "code",
   "execution_count": 98,
   "outputs": [
    {
     "data": {
      "text/plain": "((40702, 2140), (10176, 2140))"
     },
     "execution_count": 98,
     "metadata": {},
     "output_type": "execute_result"
    }
   ],
   "source": [
    "x_train.shape, x_test.shape"
   ],
   "metadata": {
    "collapsed": false,
    "ExecuteTime": {
     "end_time": "2023-05-18T09:32:06.035209Z",
     "start_time": "2023-05-18T09:32:06.019999Z"
    }
   }
  },
  {
   "cell_type": "code",
   "execution_count": 99,
   "outputs": [],
   "source": [
    "boosting = GradientBoostingRegressor()\n",
    "boosting.fit(x_train, y_train)\n",
    "boosting_pred = boosting.predict(x_test)"
   ],
   "metadata": {
    "collapsed": false,
    "ExecuteTime": {
     "end_time": "2023-05-18T09:41:13.928269Z",
     "start_time": "2023-05-18T09:32:48.512344Z"
    }
   }
  },
  {
   "cell_type": "code",
   "execution_count": 100,
   "outputs": [],
   "source": [
    "forest = RandomForestRegressor()\n",
    "forest.fit(x_train, y_train)\n",
    "forest_pred = forest.predict(x_test)"
   ],
   "metadata": {
    "collapsed": false,
    "ExecuteTime": {
     "end_time": "2023-05-18T10:00:21.211429Z",
     "start_time": "2023-05-18T09:41:13.930998Z"
    }
   }
  },
  {
   "cell_type": "code",
   "execution_count": 101,
   "outputs": [
    {
     "data": {
      "text/plain": "0.37721509383069596"
     },
     "execution_count": 101,
     "metadata": {},
     "output_type": "execute_result"
    }
   ],
   "source": [
    "mean_absolute_percentage_error(y_test, boosting_pred)"
   ],
   "metadata": {
    "collapsed": false,
    "ExecuteTime": {
     "end_time": "2023-05-18T10:01:50.140018Z",
     "start_time": "2023-05-18T10:01:50.136361Z"
    }
   }
  },
  {
   "cell_type": "code",
   "execution_count": 102,
   "outputs": [
    {
     "data": {
      "text/plain": "0.23110435349440583"
     },
     "execution_count": 102,
     "metadata": {},
     "output_type": "execute_result"
    }
   ],
   "source": [
    "mean_absolute_percentage_error(y_test, forest_pred)"
   ],
   "metadata": {
    "collapsed": false,
    "ExecuteTime": {
     "end_time": "2023-05-18T10:01:51.440407Z",
     "start_time": "2023-05-18T10:01:51.406717Z"
    }
   }
  },
  {
   "cell_type": "code",
   "execution_count": 104,
   "outputs": [],
   "source": [
    "simple_boosting = GradientBoostingRegressor()\n",
    "simple_boosting.fit(column_transformer.transform(data_train), y_train)\n",
    "simple_boosting_pred = simple_boosting.predict(column_transformer.transform(data_test))"
   ],
   "metadata": {
    "collapsed": false,
    "ExecuteTime": {
     "end_time": "2023-05-18T10:04:47.528004Z",
     "start_time": "2023-05-18T10:04:44.396214Z"
    }
   }
  },
  {
   "cell_type": "code",
   "execution_count": 105,
   "outputs": [
    {
     "data": {
      "text/plain": "0.3719973812823832"
     },
     "execution_count": 105,
     "metadata": {},
     "output_type": "execute_result"
    }
   ],
   "source": [
    "mean_absolute_percentage_error(y_test, simple_boosting_pred)"
   ],
   "metadata": {
    "collapsed": false,
    "ExecuteTime": {
     "end_time": "2023-05-18T10:05:12.753538Z",
     "start_time": "2023-05-18T10:05:12.714492Z"
    }
   }
  },
  {
   "cell_type": "code",
   "execution_count": 107,
   "outputs": [],
   "source": [
    "simple_forest = RandomForestRegressor()\n",
    "simple_forest.fit(column_transformer.transform(data_train), y_train)\n",
    "simple_forest_pred = simple_forest.predict(column_transformer.transform(data_test))"
   ],
   "metadata": {
    "collapsed": false,
    "ExecuteTime": {
     "end_time": "2023-05-18T10:09:31.319595Z",
     "start_time": "2023-05-18T10:07:13.838215Z"
    }
   }
  },
  {
   "cell_type": "code",
   "execution_count": 108,
   "outputs": [
    {
     "data": {
      "text/plain": "0.18102931689327006"
     },
     "execution_count": 108,
     "metadata": {},
     "output_type": "execute_result"
    }
   ],
   "source": [
    "mean_absolute_percentage_error(y_test, simple_forest_pred)"
   ],
   "metadata": {
    "collapsed": false,
    "ExecuteTime": {
     "end_time": "2023-05-18T10:09:34.765652Z",
     "start_time": "2023-05-18T10:09:34.758706Z"
    }
   }
  }
 ],
 "metadata": {
  "kernelspec": {
   "display_name": "Python 3",
   "language": "python",
   "name": "python3"
  },
  "language_info": {
   "codemirror_mode": {
    "name": "ipython",
    "version": 2
   },
   "file_extension": ".py",
   "mimetype": "text/x-python",
   "name": "python",
   "nbconvert_exporter": "python",
   "pygments_lexer": "ipython2",
   "version": "2.7.6"
  }
 },
 "nbformat": 4,
 "nbformat_minor": 0
}
